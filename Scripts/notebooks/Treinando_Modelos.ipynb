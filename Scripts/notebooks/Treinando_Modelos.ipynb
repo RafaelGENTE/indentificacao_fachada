{
 "cells": [
  {
   "cell_type": "code",
   "execution_count": 1,
   "metadata": {},
   "outputs": [
    {
     "name": "stdout",
     "output_type": "stream",
     "text": [
      "Requirement already satisfied: tensorflow in c:\\users\\rafael.antunes\\documents\\tcc\\indentificacao_fachada\\tcc\\lib\\site-packages (2.18.0)\n",
      "Requirement already satisfied: xgboost in c:\\users\\rafael.antunes\\documents\\tcc\\indentificacao_fachada\\tcc\\lib\\site-packages (2.1.2)\n",
      "Requirement already satisfied: numpy in c:\\users\\rafael.antunes\\documents\\tcc\\indentificacao_fachada\\tcc\\lib\\site-packages (2.0.2)\n",
      "Requirement already satisfied: matplotlib in c:\\users\\rafael.antunes\\documents\\tcc\\indentificacao_fachada\\tcc\\lib\\site-packages (3.9.2)\n",
      "Requirement already satisfied: scikit-learn in c:\\users\\rafael.antunes\\documents\\tcc\\indentificacao_fachada\\tcc\\lib\\site-packages (1.5.2)\n",
      "Requirement already satisfied: opencv-python in c:\\users\\rafael.antunes\\documents\\tcc\\indentificacao_fachada\\tcc\\lib\\site-packages (4.10.0.84)\n",
      "Requirement already satisfied: pillow in c:\\users\\rafael.antunes\\documents\\tcc\\indentificacao_fachada\\tcc\\lib\\site-packages (11.0.0)\n",
      "Requirement already satisfied: seaborn in c:\\users\\rafael.antunes\\documents\\tcc\\indentificacao_fachada\\tcc\\lib\\site-packages (0.13.2)\n",
      "Requirement already satisfied: pandas in c:\\users\\rafael.antunes\\documents\\tcc\\indentificacao_fachada\\tcc\\lib\\site-packages (2.2.3)\n",
      "Requirement already satisfied: setuptools in c:\\users\\rafael.antunes\\documents\\tcc\\indentificacao_fachada\\tcc\\lib\\site-packages (75.3.0)\n",
      "Requirement already satisfied: tensorflow-intel==2.18.0 in c:\\users\\rafael.antunes\\documents\\tcc\\indentificacao_fachada\\tcc\\lib\\site-packages (from tensorflow) (2.18.0)\n",
      "Requirement already satisfied: absl-py>=1.0.0 in c:\\users\\rafael.antunes\\documents\\tcc\\indentificacao_fachada\\tcc\\lib\\site-packages (from tensorflow-intel==2.18.0->tensorflow) (2.1.0)\n",
      "Requirement already satisfied: astunparse>=1.6.0 in c:\\users\\rafael.antunes\\documents\\tcc\\indentificacao_fachada\\tcc\\lib\\site-packages (from tensorflow-intel==2.18.0->tensorflow) (1.6.3)\n",
      "Requirement already satisfied: flatbuffers>=24.3.25 in c:\\users\\rafael.antunes\\documents\\tcc\\indentificacao_fachada\\tcc\\lib\\site-packages (from tensorflow-intel==2.18.0->tensorflow) (24.3.25)\n",
      "Requirement already satisfied: gast!=0.5.0,!=0.5.1,!=0.5.2,>=0.2.1 in c:\\users\\rafael.antunes\\documents\\tcc\\indentificacao_fachada\\tcc\\lib\\site-packages (from tensorflow-intel==2.18.0->tensorflow) (0.6.0)\n",
      "Requirement already satisfied: google-pasta>=0.1.1 in c:\\users\\rafael.antunes\\documents\\tcc\\indentificacao_fachada\\tcc\\lib\\site-packages (from tensorflow-intel==2.18.0->tensorflow) (0.2.0)\n",
      "Requirement already satisfied: libclang>=13.0.0 in c:\\users\\rafael.antunes\\documents\\tcc\\indentificacao_fachada\\tcc\\lib\\site-packages (from tensorflow-intel==2.18.0->tensorflow) (18.1.1)\n",
      "Requirement already satisfied: opt-einsum>=2.3.2 in c:\\users\\rafael.antunes\\documents\\tcc\\indentificacao_fachada\\tcc\\lib\\site-packages (from tensorflow-intel==2.18.0->tensorflow) (3.4.0)\n",
      "Requirement already satisfied: packaging in c:\\users\\rafael.antunes\\documents\\tcc\\indentificacao_fachada\\tcc\\lib\\site-packages (from tensorflow-intel==2.18.0->tensorflow) (24.1)\n",
      "Requirement already satisfied: protobuf!=4.21.0,!=4.21.1,!=4.21.2,!=4.21.3,!=4.21.4,!=4.21.5,<6.0.0dev,>=3.20.3 in c:\\users\\rafael.antunes\\documents\\tcc\\indentificacao_fachada\\tcc\\lib\\site-packages (from tensorflow-intel==2.18.0->tensorflow) (5.28.3)\n",
      "Requirement already satisfied: requests<3,>=2.21.0 in c:\\users\\rafael.antunes\\documents\\tcc\\indentificacao_fachada\\tcc\\lib\\site-packages (from tensorflow-intel==2.18.0->tensorflow) (2.32.3)\n",
      "Requirement already satisfied: six>=1.12.0 in c:\\users\\rafael.antunes\\documents\\tcc\\indentificacao_fachada\\tcc\\lib\\site-packages (from tensorflow-intel==2.18.0->tensorflow) (1.16.0)\n",
      "Requirement already satisfied: termcolor>=1.1.0 in c:\\users\\rafael.antunes\\documents\\tcc\\indentificacao_fachada\\tcc\\lib\\site-packages (from tensorflow-intel==2.18.0->tensorflow) (2.5.0)\n",
      "Requirement already satisfied: typing-extensions>=3.6.6 in c:\\users\\rafael.antunes\\documents\\tcc\\indentificacao_fachada\\tcc\\lib\\site-packages (from tensorflow-intel==2.18.0->tensorflow) (4.12.2)\n",
      "Requirement already satisfied: wrapt>=1.11.0 in c:\\users\\rafael.antunes\\documents\\tcc\\indentificacao_fachada\\tcc\\lib\\site-packages (from tensorflow-intel==2.18.0->tensorflow) (1.16.0)\n",
      "Requirement already satisfied: grpcio<2.0,>=1.24.3 in c:\\users\\rafael.antunes\\documents\\tcc\\indentificacao_fachada\\tcc\\lib\\site-packages (from tensorflow-intel==2.18.0->tensorflow) (1.67.1)\n",
      "Requirement already satisfied: tensorboard<2.19,>=2.18 in c:\\users\\rafael.antunes\\documents\\tcc\\indentificacao_fachada\\tcc\\lib\\site-packages (from tensorflow-intel==2.18.0->tensorflow) (2.18.0)\n",
      "Requirement already satisfied: keras>=3.5.0 in c:\\users\\rafael.antunes\\documents\\tcc\\indentificacao_fachada\\tcc\\lib\\site-packages (from tensorflow-intel==2.18.0->tensorflow) (3.6.0)\n",
      "Requirement already satisfied: h5py>=3.11.0 in c:\\users\\rafael.antunes\\documents\\tcc\\indentificacao_fachada\\tcc\\lib\\site-packages (from tensorflow-intel==2.18.0->tensorflow) (3.12.1)\n",
      "Requirement already satisfied: ml-dtypes<0.5.0,>=0.4.0 in c:\\users\\rafael.antunes\\documents\\tcc\\indentificacao_fachada\\tcc\\lib\\site-packages (from tensorflow-intel==2.18.0->tensorflow) (0.4.1)\n",
      "Requirement already satisfied: scipy in c:\\users\\rafael.antunes\\documents\\tcc\\indentificacao_fachada\\tcc\\lib\\site-packages (from xgboost) (1.14.1)\n",
      "Requirement already satisfied: contourpy>=1.0.1 in c:\\users\\rafael.antunes\\documents\\tcc\\indentificacao_fachada\\tcc\\lib\\site-packages (from matplotlib) (1.3.0)\n",
      "Requirement already satisfied: cycler>=0.10 in c:\\users\\rafael.antunes\\documents\\tcc\\indentificacao_fachada\\tcc\\lib\\site-packages (from matplotlib) (0.12.1)\n",
      "Requirement already satisfied: fonttools>=4.22.0 in c:\\users\\rafael.antunes\\documents\\tcc\\indentificacao_fachada\\tcc\\lib\\site-packages (from matplotlib) (4.54.1)\n",
      "Requirement already satisfied: kiwisolver>=1.3.1 in c:\\users\\rafael.antunes\\documents\\tcc\\indentificacao_fachada\\tcc\\lib\\site-packages (from matplotlib) (1.4.7)\n",
      "Requirement already satisfied: pyparsing>=2.3.1 in c:\\users\\rafael.antunes\\documents\\tcc\\indentificacao_fachada\\tcc\\lib\\site-packages (from matplotlib) (3.2.0)\n",
      "Requirement already satisfied: python-dateutil>=2.7 in c:\\users\\rafael.antunes\\documents\\tcc\\indentificacao_fachada\\tcc\\lib\\site-packages (from matplotlib) (2.9.0.post0)\n",
      "Requirement already satisfied: joblib>=1.2.0 in c:\\users\\rafael.antunes\\documents\\tcc\\indentificacao_fachada\\tcc\\lib\\site-packages (from scikit-learn) (1.4.2)\n",
      "Requirement already satisfied: threadpoolctl>=3.1.0 in c:\\users\\rafael.antunes\\documents\\tcc\\indentificacao_fachada\\tcc\\lib\\site-packages (from scikit-learn) (3.5.0)\n",
      "Requirement already satisfied: pytz>=2020.1 in c:\\users\\rafael.antunes\\documents\\tcc\\indentificacao_fachada\\tcc\\lib\\site-packages (from pandas) (2024.2)\n",
      "Requirement already satisfied: tzdata>=2022.7 in c:\\users\\rafael.antunes\\documents\\tcc\\indentificacao_fachada\\tcc\\lib\\site-packages (from pandas) (2024.2)\n",
      "Requirement already satisfied: wheel<1.0,>=0.23.0 in c:\\users\\rafael.antunes\\documents\\tcc\\indentificacao_fachada\\tcc\\lib\\site-packages (from astunparse>=1.6.0->tensorflow-intel==2.18.0->tensorflow) (0.44.0)\n",
      "Requirement already satisfied: rich in c:\\users\\rafael.antunes\\documents\\tcc\\indentificacao_fachada\\tcc\\lib\\site-packages (from keras>=3.5.0->tensorflow-intel==2.18.0->tensorflow) (13.9.4)\n",
      "Requirement already satisfied: namex in c:\\users\\rafael.antunes\\documents\\tcc\\indentificacao_fachada\\tcc\\lib\\site-packages (from keras>=3.5.0->tensorflow-intel==2.18.0->tensorflow) (0.0.8)\n",
      "Requirement already satisfied: optree in c:\\users\\rafael.antunes\\documents\\tcc\\indentificacao_fachada\\tcc\\lib\\site-packages (from keras>=3.5.0->tensorflow-intel==2.18.0->tensorflow) (0.13.0)\n",
      "Requirement already satisfied: charset-normalizer<4,>=2 in c:\\users\\rafael.antunes\\documents\\tcc\\indentificacao_fachada\\tcc\\lib\\site-packages (from requests<3,>=2.21.0->tensorflow-intel==2.18.0->tensorflow) (3.4.0)\n",
      "Requirement already satisfied: idna<4,>=2.5 in c:\\users\\rafael.antunes\\documents\\tcc\\indentificacao_fachada\\tcc\\lib\\site-packages (from requests<3,>=2.21.0->tensorflow-intel==2.18.0->tensorflow) (3.10)\n",
      "Requirement already satisfied: urllib3<3,>=1.21.1 in c:\\users\\rafael.antunes\\documents\\tcc\\indentificacao_fachada\\tcc\\lib\\site-packages (from requests<3,>=2.21.0->tensorflow-intel==2.18.0->tensorflow) (2.2.3)\n",
      "Requirement already satisfied: certifi>=2017.4.17 in c:\\users\\rafael.antunes\\documents\\tcc\\indentificacao_fachada\\tcc\\lib\\site-packages (from requests<3,>=2.21.0->tensorflow-intel==2.18.0->tensorflow) (2024.8.30)\n",
      "Requirement already satisfied: markdown>=2.6.8 in c:\\users\\rafael.antunes\\documents\\tcc\\indentificacao_fachada\\tcc\\lib\\site-packages (from tensorboard<2.19,>=2.18->tensorflow-intel==2.18.0->tensorflow) (3.7)\n",
      "Requirement already satisfied: tensorboard-data-server<0.8.0,>=0.7.0 in c:\\users\\rafael.antunes\\documents\\tcc\\indentificacao_fachada\\tcc\\lib\\site-packages (from tensorboard<2.19,>=2.18->tensorflow-intel==2.18.0->tensorflow) (0.7.2)\n",
      "Requirement already satisfied: werkzeug>=1.0.1 in c:\\users\\rafael.antunes\\documents\\tcc\\indentificacao_fachada\\tcc\\lib\\site-packages (from tensorboard<2.19,>=2.18->tensorflow-intel==2.18.0->tensorflow) (3.1.2)\n",
      "Requirement already satisfied: MarkupSafe>=2.1.1 in c:\\users\\rafael.antunes\\documents\\tcc\\indentificacao_fachada\\tcc\\lib\\site-packages (from werkzeug>=1.0.1->tensorboard<2.19,>=2.18->tensorflow-intel==2.18.0->tensorflow) (3.0.2)\n",
      "Requirement already satisfied: markdown-it-py>=2.2.0 in c:\\users\\rafael.antunes\\documents\\tcc\\indentificacao_fachada\\tcc\\lib\\site-packages (from rich->keras>=3.5.0->tensorflow-intel==2.18.0->tensorflow) (3.0.0)\n",
      "Requirement already satisfied: pygments<3.0.0,>=2.13.0 in c:\\users\\rafael.antunes\\documents\\tcc\\indentificacao_fachada\\tcc\\lib\\site-packages (from rich->keras>=3.5.0->tensorflow-intel==2.18.0->tensorflow) (2.18.0)\n",
      "Requirement already satisfied: mdurl~=0.1 in c:\\users\\rafael.antunes\\documents\\tcc\\indentificacao_fachada\\tcc\\lib\\site-packages (from markdown-it-py>=2.2.0->rich->keras>=3.5.0->tensorflow-intel==2.18.0->tensorflow) (0.1.2)\n"
     ]
    },
    {
     "name": "stderr",
     "output_type": "stream",
     "text": [
      "\n",
      "[notice] A new release of pip is available: 24.2 -> 24.3.1\n",
      "[notice] To update, run: python.exe -m pip install --upgrade pip\n"
     ]
    }
   ],
   "source": [
    "!pip install tensorflow xgboost numpy matplotlib scikit-learn opencv-python pillow seaborn pandas setuptools\n"
   ]
  },
  {
   "cell_type": "code",
   "execution_count": 2,
   "metadata": {
    "colab": {
     "base_uri": "https://localhost:8080/"
    },
    "id": "VWzcyN0US2Ec",
    "outputId": "d0c8eff2-5701-4d2f-dc4f-28b2648e5c91"
   },
   "outputs": [],
   "source": [
    "# Image Training only.ipynb\n",
    "\n",
    "#  This code is for training the model\n",
    "\n",
    "\n",
    "\n",
    "# some basic libraries\n",
    "import numpy as np\n",
    "import tensorflow as tf\n",
    "import matplotlib.pyplot as plt\n",
    "import os\n",
    "\n",
    "# importing for basic image operations\n",
    "import cv2 as cv\n",
    "from PIL import Image\n",
    "from PIL import ImageOps\n",
    "import seaborn as sns\n",
    "from datetime import datetime\n",
    "\n",
    "# importing pretrained models\n",
    "from tensorflow.keras.applications import efficientnet\n",
    "\n",
    "# for splitting data\n",
    "from sklearn.model_selection import StratifiedKFold\n",
    "from sklearn.model_selection import train_test_split\n",
    "\n",
    "# prerequisites for training models\n",
    "from tensorflow.keras.utils import to_categorical\n",
    "from tensorflow.keras import Sequential\n",
    "from sklearn.metrics import confusion_matrix\n",
    "from sklearn.metrics import classification_report\n",
    "\n",
    "# for selecting better metrics\n",
    "from sklearn.metrics import roc_auc_score\n",
    "\n",
    "# initialize TPU\n",
    "try:\n",
    "    tpu = tf.distribute.cluster_resolver.TPUClusterResolver()\n",
    "    print('Device:', tpu.master())\n",
    "    tf.config.experimental_connect_to_cluster(tpu)\n",
    "    tf.tpu.experimental.initialize_tpu_system(tpu)\n",
    "    strategy = tf.distribute.experimental.TPUStrategy(tpu)\n",
    "except:\n",
    "    strategy = tf.distribute.get_strategy()\n",
    "\n",
    "\n",
    "\n",
    "s = \"target\""
   ]
  },
  {
   "cell_type": "code",
   "execution_count": 3,
   "metadata": {
    "id": "v5pm1yei1fkF"
   },
   "outputs": [],
   "source": [
    "## Image Training\n",
    "\n",
    "TRAIN_IMG_DIR_PATH = \"../imagens_bd/results_train/\"\n",
    "\n",
    "# converts all images for transformations\n",
    "X = []\n",
    "y = []\n",
    "\n",
    "#classes = [\"residential\", \"mixed\", \"commercial\", \"others\", \"industrial\"]\n",
    "classes = [\"residential\", \"commercial\", \"others\", \"industrial\"]\n",
    "INPUT_IMG_WIDTH = 250\n",
    "INPUT_IMG_HEIGHT = 350\n",
    "VERTICAL = True"
   ]
  },
  {
   "cell_type": "code",
   "execution_count": 8,
   "metadata": {},
   "outputs": [
    {
     "name": "stdout",
     "output_type": "stream",
     "text": [
      "Diretório de trabalho atual: c:\\Users\\rafael.antunes\\Documents\\TCC\\indentificacao_fachada\\Scripts\\notebooks\n"
     ]
    }
   ],
   "source": [
    "\n",
    "print(\"Diretório de trabalho atual:\", os.getcwd())\n"
   ]
  },
  {
   "cell_type": "code",
   "execution_count": 4,
   "metadata": {
    "colab": {
     "base_uri": "https://localhost:8080/"
    },
    "id": "Jo9i9En02q4d",
    "outputId": "12eb6758-0361-4082-e76e-bec6a8aa6bac"
   },
   "outputs": [
    {
     "name": "stdout",
     "output_type": "stream",
     "text": [
      "residential pre-processing completed!\n",
      "commercial pre-processing completed!\n",
      "others pre-processing completed!\n",
      "industrial pre-processing completed!\n"
     ]
    }
   ],
   "source": [
    "# Para Pillow 9.1.0 ou superior\n",
    "try:\n",
    "    from PIL import Resampling\n",
    "    RESAMPLING_METHOD = Resampling.LANCZOS\n",
    "except ImportError:\n",
    "    RESAMPLING_METHOD = Image.LANCZOS\n",
    "\n",
    "# memory management in python by some medium article asian woman\n",
    "\n",
    "for class_no, img_class in enumerate(classes):\n",
    "\n",
    "    for aug_index, img_file in enumerate(os.listdir(TRAIN_IMG_DIR_PATH + img_class)):\n",
    "\n",
    "        img = Image.open(TRAIN_IMG_DIR_PATH + img_class + '/' + img_file)\n",
    "        img = ImageOps.fit(img, (INPUT_IMG_WIDTH, INPUT_IMG_HEIGHT), RESAMPLING_METHOD)\n",
    "\n",
    "        # if you want to run on no augmentation\n",
    "        np_img1 = np.array(img).astype(np.float16)\n",
    "        X.append(np_img1)\n",
    "        y.append(class_no)\n",
    "\n",
    "        # if you want to run on augmentation (for every 1 image, 2 additional images)\n",
    "        if aug_index % 6 == 0:\n",
    "            img2 = ImageOps.mirror(img)\n",
    "            np_img2 = np.array(img2).astype(np.float16)\n",
    "            X.append(np_img2)\n",
    "            y.append(class_no)\n",
    "\n",
    "    print(f\"{img_class} pre-processing completed!\")"
   ]
  },
  {
   "cell_type": "code",
   "execution_count": 5,
   "metadata": {
    "id": "RHnJj9kh2wft"
   },
   "outputs": [],
   "source": [
    "# dataset here\n",
    "X = np.asarray(X)\n",
    "y = np.asarray(y)\n",
    "\n",
    "X_train, X_test, y_train, y_test = train_test_split(X, y, test_size=0.25)\n",
    "del X, y\n",
    "\n",
    "# convert to one-hot encoded vectors\n",
    "y_train = to_categorical(y_train)\n",
    "y_test = to_categorical(y_test)\n",
    "\n",
    "# problem specific stuff\n",
    "if VERTICAL:\n",
    "    _temp_measure = INPUT_IMG_WIDTH\n",
    "    INPUT_IMG_WIDTH = INPUT_IMG_HEIGHT\n",
    "    INPUT_IMG_HEIGHT = _temp_measure\n",
    "\n",
    "history_dict = []\n"
   ]
  },
  {
   "cell_type": "code",
   "execution_count": 6,
   "metadata": {
    "id": "Am4PbDQFXCkV"
   },
   "outputs": [],
   "source": [
    "# Configuração do TensorBoard\n",
    "from datetime import datetime\n",
    "\n",
    "log_dir = \"logs/fit/\" + datetime.now().strftime(\"%Y%m%d-%H%M%S\")\n",
    "tensorboard_callback = tf.keras.callbacks.TensorBoard(\n",
    "    log_dir=log_dir,\n",
    "    histogram_freq=1,  # Gera histograms\n",
    "    write_graph=True,   # Grava o grafo do modelo\n",
    "    write_images=True,  # Salva imagens (como visualizações de filtros)\n",
    "    update_freq='epoch', # Frequência de atualização\n",
    "    profile_batch=0,    # Não gera perfil de desempenho\n",
    ")"
   ]
  },
  {
   "cell_type": "code",
   "execution_count": null,
   "metadata": {
    "colab": {
     "base_uri": "https://localhost:8080/"
    },
    "id": "g4HYAukoXLEF",
    "outputId": "236ec4e9-e956-4747-c8e8-51be12b257f1"
   },
   "outputs": [
    {
     "name": "stdout",
     "output_type": "stream",
     "text": [
      "\u001b[1m2/2\u001b[0m \u001b[32m━━━━━━━━━━━━━━━━━━━━\u001b[0m\u001b[37m\u001b[0m \u001b[1m42s\u001b[0m 21s/step - accuracy: 0.1733 - auc: 0.3924 - loss: 1.4720 - val_accuracy: 0.2000 - val_auc: 0.6576 - val_loss: 1.3339\n"
     ]
    }
   ],
   "source": [
    "from tensorflow.keras import Model, Input\n",
    "from tensorflow.keras.layers import Dense, Dropout, GlobalAveragePooling2D\n",
    "from tensorflow.keras.applications import EfficientNetB7\n",
    "\n",
    "# Definindo a entrada do modelo\n",
    "inputs = Input(shape=(INPUT_IMG_WIDTH, INPUT_IMG_HEIGHT, 3))\n",
    "\n",
    "# Carregando a EfficientNetB7\n",
    "resnet_model = EfficientNetB7(include_top=False, input_tensor=inputs)\n",
    "resnet_model.trainable = False  # Congela as camadas da EfficientNet\n",
    "\n",
    "# Adicionando camadas superiores\n",
    "x = GlobalAveragePooling2D()(resnet_model.output)\n",
    "x = Dropout(0.175)(x)\n",
    "x = Dense(16, activation='relu')(x)  # Camada intermediária\n",
    "x = Dropout(0.125)(x)\n",
    "outputs = Dense(4, activation='softmax')(x)  # Camada de saída\n",
    "\n",
    "# Definindo o modelo\n",
    "model_resnet = Model(inputs=inputs, outputs=outputs)\n",
    "\n",
    "# Compilando o modelo\n",
    "model_resnet.compile(\n",
    "    optimizer=tf.keras.optimizers.Adam(),\n",
    "    loss=tf.keras.losses.CategoricalCrossentropy(from_logits=False),\n",
    "    metrics=[tf.keras.metrics.AUC(name='auc'), 'accuracy']\n",
    ")\n",
    "\n",
    "# Treinando o modelo\n",
    "history_resnet = model_resnet.fit(\n",
    "    np.array(X_train), np.array(y_train),\n",
    "    epochs=25,\n",
    "    validation_data=(np.array(X_test), np.array(y_test)),\n",
    "    batch_size=64,\n",
    "    callbacks=[tensorboard_callback]\n",
    ")\n",
    "\n",
    "# Salvando o modelo\n",
    "model_resnet.save(\"../modelo/modelo_att_2(25e).keras\")\n"
   ]
  },
  {
   "cell_type": "code",
   "execution_count": 9,
   "metadata": {
    "id": "pvnN8PHXdeue"
   },
   "outputs": [],
   "source": [
    "# Salvar apenas os pesos\n",
    "model_resnet.save_weights(\"../modelo/modelo_att.weights.h5\")\n",
    "\n",
    "# Para carregar:\n",
    "# Recrie o modelo exatamente como definido acima e use `load_weights`\n",
    "new_model = Model(inputs=inputs, outputs=outputs)\n",
    "new_model.load_weights(\"../modelo/modelo_att.weights.h5\")\n"
   ]
  },
  {
   "cell_type": "code",
   "execution_count": 10,
   "metadata": {
    "id": "wdca5a7sd6p3"
   },
   "outputs": [],
   "source": [
    "import pandas as pd\n",
    "import matplotlib.pyplot as plt\n",
    "import seaborn as sns\n",
    "\n",
    "# Análise dos resultados a partir do `history_resnet`\n",
    "val_acc = history_resnet.history['val_accuracy']\n",
    "train_acc = history_resnet.history['accuracy']\n",
    "val_loss = history_resnet.history['val_loss']\n",
    "train_loss = history_resnet.history['loss']\n",
    "\n",
    "# Adicionando uma linha base de acurácia inicial para comparação\n",
    "train_acc = [0.25] + train_acc\n",
    "val_acc = [0.25] + val_acc\n",
    "\n",
    "# Calculando a média da perda inicial e adicionando ao início para comparação\n",
    "mean_loss = (val_loss[0] + train_loss[0]) / 2\n",
    "train_loss = [mean_loss] + train_loss\n",
    "val_loss = [mean_loss] + val_loss\n",
    "\n",
    "# Criando DataFrame com os dados de acurácia e perda\n",
    "results_df = pd.DataFrame({\n",
    "    'num': range(len(train_acc)),\n",
    "    'ta': train_acc,\n",
    "    'va': val_acc,\n",
    "    'tl': train_loss,\n",
    "    'vl': val_loss\n",
    "})\n",
    "\n",
    "# Visualizando as curvas de acurácia\n",
    "plt.figure(figsize=(15, 12))\n",
    "sns.lineplot(data=results_df, x='num', y='ta', label='Train Accuracy')\n",
    "sns.lineplot(data=results_df, x='num', y='va', label='Validation Accuracy')\n",
    "plt.title(\"Accuracy Curves for Building Instance Classifier\")\n",
    "plt.xlabel(\"Epochs\")\n",
    "plt.ylabel(\"Accuracy\")\n",
    "plt.legend()\n",
    "plt.savefig('../modelo/accuracy_plot_2.png')\n",
    "plt.close()\n",
    "\n",
    "# Visualizando as curvas de perda\n",
    "plt.figure(figsize=(15, 12))\n",
    "sns.lineplot(data=results_df, x='num', y='tl', label='Train Loss')\n",
    "sns.lineplot(data=results_df, x='num', y='vl', label='Validation Loss')\n",
    "plt.title(\"Loss Curves for Building Instance Classifier\")\n",
    "plt.xlabel(\"Epochs\")\n",
    "plt.ylabel(\"Categorical Crossentropy Loss\")\n",
    "plt.legend()\n",
    "plt.savefig('../modelo/loss_plot_2.png')\n",
    "plt.close()\n"
   ]
  },
  {
   "cell_type": "markdown",
   "metadata": {
    "id": "etlLUluGJlj6"
   },
   "source": [
    "* TensorBoard"
   ]
  },
  {
   "cell_type": "code",
   "execution_count": 11,
   "metadata": {
    "colab": {
     "base_uri": "https://localhost:8080/",
     "height": 1000
    },
    "id": "ZoMunE8KuYNq",
    "outputId": "673ce37e-3d5e-4f1d-db98-d978c0e1f08e"
   },
   "outputs": [
    {
     "ename": "IndexError",
     "evalue": "list index out of range",
     "output_type": "error",
     "traceback": [
      "\u001b[1;31m---------------------------------------------------------------------------\u001b[0m",
      "\u001b[1;31mIndexError\u001b[0m                                Traceback (most recent call last)",
      "Cell \u001b[1;32mIn[11], line 3\u001b[0m\n\u001b[0;32m      1\u001b[0m \u001b[38;5;66;03m# Análise dos resultados\u001b[39;00m\n\u001b[1;32m----> 3\u001b[0m val_acc \u001b[38;5;241m=\u001b[39m \u001b[43mhistory_dict\u001b[49m\u001b[43m[\u001b[49m\u001b[38;5;241;43m0\u001b[39;49m\u001b[43m]\u001b[49m\u001b[38;5;241m.\u001b[39mhistory[\u001b[38;5;124m'\u001b[39m\u001b[38;5;124mval_accuracy\u001b[39m\u001b[38;5;124m'\u001b[39m]\n\u001b[0;32m      4\u001b[0m train_acc \u001b[38;5;241m=\u001b[39m history_dict[\u001b[38;5;241m0\u001b[39m]\u001b[38;5;241m.\u001b[39mhistory[\u001b[38;5;124m'\u001b[39m\u001b[38;5;124maccuracy\u001b[39m\u001b[38;5;124m'\u001b[39m]\n\u001b[0;32m      5\u001b[0m val_loss \u001b[38;5;241m=\u001b[39m history_dict[\u001b[38;5;241m0\u001b[39m]\u001b[38;5;241m.\u001b[39mhistory[\u001b[38;5;124m'\u001b[39m\u001b[38;5;124mval_loss\u001b[39m\u001b[38;5;124m'\u001b[39m]\n",
      "\u001b[1;31mIndexError\u001b[0m: list index out of range"
     ]
    }
   ],
   "source": [
    "# Análise dos resultados\n",
    "\n",
    "val_acc = history_dict[0].history['val_accuracy']\n",
    "train_acc = history_dict[0].history['accuracy']\n",
    "val_loss = history_dict[0].history['val_loss']\n",
    "train_loss = history_dict[0].history['loss']\n",
    "\n",
    "# random probability of prediction\n",
    "train_acc = [0.25] + train_acc\n",
    "val_acc = [0.25] + val_acc\n",
    "\n",
    "# starting assumption to have mean of loss of first two\n",
    "mean_loss = (val_loss[0] + train_loss[0]) / 2\n",
    "train_loss = [mean_loss] + train_loss\n",
    "val_loss = [mean_loss] + val_loss\n",
    "\n",
    "import pandas as pd\n",
    "results_df = pd.DataFrame([train_acc, val_acc, train_loss, val_loss]).rename({0: 'ta', 1: 'va', 2: 'tl', 3: 'vl'}).T.reset_index().rename(columns={'index': 'num'})\n",
    "results_df.head()\n",
    "\n",
    "sns.set_style('darkgrid')\n",
    "plt.figure(figsize=(15, 12))\n",
    "sns.lineplot(data=results_df, x='num', y='ta',)\n",
    "sns.lineplot(data=results_df, x='num', y='va',)\n",
    "plt.title(\"Accuracy Curves obtained while training Building Instance Classifier\")\n",
    "plt.xlabel(\"Epochs\")\n",
    "plt.ylabel(\"Accuracy (Metric)\")\n",
    "plt.show()\n",
    "\n",
    "sns.set_style('darkgrid')\n",
    "plt.figure(figsize=(15, 12))\n",
    "sns.lineplot(data=results_df, x='num', y='tl',)\n",
    "sns.lineplot(data=results_df, x='num', y='vl',)\n",
    "plt.title(\"Loss Curves obtained while training Building Instance Classifier\")\n",
    "plt.xlabel(\"Epochs\")\n",
    "plt.ylabel(\"Categorical Crossentropy (Loss)\")\n",
    "plt.show()"
   ]
  }
 ],
 "metadata": {
  "colab": {
   "provenance": []
  },
  "kernelspec": {
   "display_name": "tcc",
   "language": "python",
   "name": "python3"
  },
  "language_info": {
   "codemirror_mode": {
    "name": "ipython",
    "version": 3
   },
   "file_extension": ".py",
   "mimetype": "text/x-python",
   "name": "python",
   "nbconvert_exporter": "python",
   "pygments_lexer": "ipython3",
   "version": "3.12.7"
  }
 },
 "nbformat": 4,
 "nbformat_minor": 0
}
