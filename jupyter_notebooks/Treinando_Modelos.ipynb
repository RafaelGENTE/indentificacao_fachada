{
 "cells": [
  {
   "cell_type": "code",
   "execution_count": null,
   "metadata": {},
   "outputs": [],
   "source": [
    "!pip install tensorflow xgboost numpy matplotlib scikit-learn opencv-python pillow seaborn pandas setuptools\n"
   ]
  },
  {
   "cell_type": "code",
   "execution_count": 2,
   "metadata": {
    "colab": {
     "base_uri": "https://localhost:8080/"
    },
    "id": "VWzcyN0US2Ec",
    "outputId": "d0c8eff2-5701-4d2f-dc4f-28b2648e5c91"
   },
   "outputs": [],
   "source": [
    "# Image Training only.ipynb\n",
    "\n",
    "#  This code is for training the model\n",
    "\n",
    "\n",
    "\n",
    "# some basic libraries\n",
    "import numpy as np\n",
    "import tensorflow as tf\n",
    "import matplotlib.pyplot as plt\n",
    "import os\n",
    "\n",
    "# importing for basic image operations\n",
    "import cv2 as cv\n",
    "from PIL import Image\n",
    "from PIL import ImageOps\n",
    "import seaborn as sns\n",
    "from datetime import datetime\n",
    "\n",
    "# importing pretrained models\n",
    "from tensorflow.keras.applications import efficientnet\n",
    "\n",
    "# for splitting data\n",
    "from sklearn.model_selection import StratifiedKFold\n",
    "from sklearn.model_selection import train_test_split\n",
    "\n",
    "# prerequisites for training models\n",
    "from tensorflow.keras.utils import to_categorical\n",
    "from tensorflow.keras import Sequential\n",
    "from sklearn.metrics import confusion_matrix\n",
    "from sklearn.metrics import classification_report\n",
    "\n",
    "# for selecting better metrics\n",
    "from sklearn.metrics import roc_auc_score\n",
    "\n"
   ]
  },
  {
   "cell_type": "code",
   "execution_count": null,
   "metadata": {},
   "outputs": [],
   "source": [
    "import tensorflow as tf\n",
    "\n",
    "# Inicializar estratégia para treinamento\n",
    "try:\n",
    "    # Verifica se há GPUs disponíveis\n",
    "    gpus = tf.config.list_physical_devices('GPU')\n",
    "    if gpus:\n",
    "        # Configura o TensorFlow para usar a GPU sem alocar toda a memória (opcional)\n",
    "        for gpu in gpus:\n",
    "            tf.config.experimental.set_memory_growth(gpu, True)\n",
    "        print(f\"Dispositivo detectado: {len(gpus)} GPU(s).\")\n",
    "        strategy = tf.distribute.MirroredStrategy()  # Estratégia para GPUs\n",
    "    else:\n",
    "        print(\"Nenhuma GPU detectada. Usando CPU.\")\n",
    "        strategy = tf.distribute.get_strategy()  # CPU como fallback\n",
    "except RuntimeError as e:\n",
    "    print(f\"Erro ao configurar GPU: {e}\")\n",
    "    strategy = tf.distribute.get_strategy()  # Fallback para CPU\n",
    "\n",
    "# Testando a estratégia\n",
    "print(\"Estratégia em uso:\", strategy)\n"
   ]
  },
  {
   "cell_type": "code",
   "execution_count": 4,
   "metadata": {
    "id": "v5pm1yei1fkF"
   },
   "outputs": [],
   "source": [
    "## Image Training\n",
    "\n",
    "TRAIN_IMG_DIR_PATH = \"../imagens_bd/results_train/\"\n",
    "\n",
    "# converts all images for transformations\n",
    "X = []\n",
    "y = []\n",
    "\n",
    "#classes = [\"residential\", \"mixed\", \"commercial\", \"others\", \"industrial\"]\n",
    "classes = [\"residential\", \"commercial\", \"others\", \"industrial\"]\n",
    "INPUT_IMG_WIDTH = 250\n",
    "INPUT_IMG_HEIGHT = 350\n",
    "VERTICAL = True"
   ]
  },
  {
   "cell_type": "code",
   "execution_count": null,
   "metadata": {
    "colab": {
     "base_uri": "https://localhost:8080/"
    },
    "id": "Jo9i9En02q4d",
    "outputId": "12eb6758-0361-4082-e76e-bec6a8aa6bac"
   },
   "outputs": [],
   "source": [
    "# Para Pillow 9.1.0 ou superior\n",
    "try:\n",
    "    from PIL import Resampling\n",
    "    RESAMPLING_METHOD = Resampling.LANCZOS\n",
    "except ImportError:\n",
    "    RESAMPLING_METHOD = Image.LANCZOS\n",
    "\n",
    "# memory management in python by some medium article asian woman\n",
    "\n",
    "for class_no, img_class in enumerate(classes):\n",
    "\n",
    "    for aug_index, img_file in enumerate(os.listdir(TRAIN_IMG_DIR_PATH + img_class)):\n",
    "\n",
    "        img = Image.open(TRAIN_IMG_DIR_PATH + img_class + '/' + img_file)\n",
    "        img = ImageOps.fit(img, (INPUT_IMG_WIDTH, INPUT_IMG_HEIGHT), RESAMPLING_METHOD)\n",
    "\n",
    "        # if you want to run on no augmentation\n",
    "        np_img1 = np.array(img).astype(np.float16)\n",
    "        X.append(np_img1)\n",
    "        y.append(class_no)\n",
    "\n",
    "        # if you want to run on augmentation (for every 1 image, 2 additional images)\n",
    "        if aug_index % 6 == 0:\n",
    "            img2 = ImageOps.mirror(img)\n",
    "            np_img2 = np.array(img2).astype(np.float16)\n",
    "            X.append(np_img2)\n",
    "            y.append(class_no)\n",
    "\n",
    "    print(f\"{img_class} pre-processing completed!\")"
   ]
  },
  {
   "cell_type": "code",
   "execution_count": 6,
   "metadata": {
    "id": "RHnJj9kh2wft"
   },
   "outputs": [],
   "source": [
    "# dataset here\n",
    "X = np.asarray(X)\n",
    "y = np.asarray(y)\n",
    "\n",
    "X_train, X_test, y_train, y_test = train_test_split(X, y, test_size=0.25)\n",
    "del X, y\n",
    "\n",
    "# convert to one-hot encoded vectors\n",
    "y_train = to_categorical(y_train)\n",
    "y_test = to_categorical(y_test)\n",
    "\n",
    "# problem specific stuff\n",
    "if VERTICAL:\n",
    "    _temp_measure = INPUT_IMG_WIDTH\n",
    "    INPUT_IMG_WIDTH = INPUT_IMG_HEIGHT\n",
    "    INPUT_IMG_HEIGHT = _temp_measure\n",
    "\n",
    "history_dict = []\n"
   ]
  },
  {
   "cell_type": "code",
   "execution_count": 7,
   "metadata": {
    "id": "Am4PbDQFXCkV"
   },
   "outputs": [],
   "source": [
    "# Configuração do TensorBoard\n",
    "from datetime import datetime\n",
    "\n",
    "log_dir = \"logs/fit/\" + datetime.now().strftime(\"%Y%m%d-%H%M%S\")\n",
    "tensorboard_callback = tf.keras.callbacks.TensorBoard(\n",
    "    log_dir=log_dir,\n",
    "    histogram_freq=1,  # Gera histograms\n",
    "    write_graph=True,   # Grava o grafo do modelo\n",
    "    write_images=True,  # Salva imagens (como visualizações de filtros)\n",
    "    update_freq='epoch', # Frequência de atualização\n",
    "    profile_batch=0,    # Não gera perfil de desempenho\n",
    ")"
   ]
  },
  {
   "cell_type": "code",
   "execution_count": null,
   "metadata": {
    "colab": {
     "base_uri": "https://localhost:8080/"
    },
    "id": "g4HYAukoXLEF",
    "outputId": "236ec4e9-e956-4747-c8e8-51be12b257f1"
   },
   "outputs": [],
   "source": [
    "from tensorflow.keras import Model, Input\n",
    "from tensorflow.keras.layers import Dense, Dropout, GlobalAveragePooling2D\n",
    "from tensorflow.keras.applications import EfficientNetB7\n",
    "\n",
    "# Definindo a entrada do modelo\n",
    "inputs = Input(shape=(INPUT_IMG_WIDTH, INPUT_IMG_HEIGHT, 3))\n",
    "\n",
    "# Carregando a EfficientNetB7\n",
    "resnet_model = EfficientNetB7(include_top=False, input_tensor=inputs)\n",
    "resnet_model.trainable = False  # Congela as camadas da EfficientNet\n",
    "\n",
    "# Adicionando camadas superiores\n",
    "x = GlobalAveragePooling2D()(resnet_model.output)\n",
    "x = Dropout(0.175)(x)\n",
    "x = Dense(16, activation='relu')(x)  # Camada intermediária\n",
    "x = Dropout(0.125)(x)\n",
    "outputs = Dense(4, activation='softmax')(x)  # Camada de saída\n",
    "\n",
    "# Definindo o modelo\n",
    "model_resnet = Model(inputs=inputs, outputs=outputs)\n",
    "\n",
    "# Compilando o modelo\n",
    "model_resnet.compile(\n",
    "    optimizer=tf.keras.optimizers.Adam(),\n",
    "    loss=tf.keras.losses.CategoricalCrossentropy(from_logits=False),\n",
    "    metrics=[tf.keras.metrics.AUC(name='auc'), 'accuracy']\n",
    ")\n",
    "\n",
    "# Treinando o modelo\n",
    "history_resnet = model_resnet.fit(\n",
    "    np.array(X_train), np.array(y_train),\n",
    "    epochs=100,\n",
    "    validation_data=(np.array(X_test), np.array(y_test)),\n",
    "    batch_size=64,\n",
    "    callbacks=[tensorboard_callback]\n",
    ")\n",
    "\n",
    "# Salvando o modelo\n",
    "model_resnet.save(\"../modelo/modelo_att(100e).keras\")\n"
   ]
  },
  {
   "cell_type": "code",
   "execution_count": 10,
   "metadata": {
    "id": "pvnN8PHXdeue"
   },
   "outputs": [],
   "source": [
    "# Salvar apenas os pesos\n",
    "model_resnet.save_weights(\"../modelo/modelo_att.weights.h5\")\n",
    "\n",
    "# Para carregar:\n",
    "# Recrie o modelo exatamente como definido acima e use `load_weights`\n",
    "new_model = Model(inputs=inputs, outputs=outputs)\n",
    "new_model.load_weights(\"../modelo/modelo_att.weights.h5\")\n"
   ]
  },
  {
   "cell_type": "code",
   "execution_count": 11,
   "metadata": {
    "id": "wdca5a7sd6p3"
   },
   "outputs": [],
   "source": [
    "import pandas as pd\n",
    "import matplotlib.pyplot as plt\n",
    "import seaborn as sns\n",
    "\n",
    "# Análise dos resultados a partir do `history_resnet`\n",
    "val_acc = history_resnet.history['val_accuracy']\n",
    "train_acc = history_resnet.history['accuracy']\n",
    "val_loss = history_resnet.history['val_loss']\n",
    "train_loss = history_resnet.history['loss']\n",
    "\n",
    "# Adicionando uma linha base de acurácia inicial para comparação\n",
    "train_acc = [0.25] + train_acc\n",
    "val_acc = [0.25] + val_acc\n",
    "\n",
    "# Calculando a média da perda inicial e adicionando ao início para comparação\n",
    "mean_loss = (val_loss[0] + train_loss[0]) / 2\n",
    "train_loss = [mean_loss] + train_loss\n",
    "val_loss = [mean_loss] + val_loss\n",
    "\n",
    "# Criando DataFrame com os dados de acurácia e perda\n",
    "results_df = pd.DataFrame({\n",
    "    'num': range(len(train_acc)),\n",
    "    'ta': train_acc,\n",
    "    'va': val_acc,\n",
    "    'tl': train_loss,\n",
    "    'vl': val_loss\n",
    "})\n",
    "\n",
    "# Visualizando as curvas de acurácia\n",
    "plt.figure(figsize=(15, 12))\n",
    "sns.lineplot(data=results_df, x='num', y='ta', label='Train Accuracy')\n",
    "sns.lineplot(data=results_df, x='num', y='va', label='Validation Accuracy')\n",
    "plt.title(\"Accuracy Curves for Building Instance Classifier\")\n",
    "plt.xlabel(\"Epochs\")\n",
    "plt.ylabel(\"Accuracy\")\n",
    "plt.legend()\n",
    "plt.savefig('../modelo/accuracy_plot_100e.png')\n",
    "plt.close()\n",
    "\n",
    "# Visualizando as curvas de perda\n",
    "plt.figure(figsize=(15, 12))\n",
    "sns.lineplot(data=results_df, x='num', y='tl', label='Train Loss')\n",
    "sns.lineplot(data=results_df, x='num', y='vl', label='Validation Loss')\n",
    "plt.title(\"Loss Curves for Building Instance Classifier\")\n",
    "plt.xlabel(\"Epochs\")\n",
    "plt.ylabel(\"Categorical Crossentropy Loss\")\n",
    "plt.legend()\n",
    "plt.savefig('../modelo/loss_plot_100e.png')\n",
    "plt.close()\n"
   ]
  },
  {
   "cell_type": "code",
   "execution_count": 1,
   "metadata": {},
   "outputs": [
    {
     "data": {
      "text/html": [
       "\n",
       "      <iframe id=\"tensorboard-frame-15d9763178ba25c0\" width=\"100%\" height=\"800\" frameborder=\"0\">\n",
       "      </iframe>\n",
       "      <script>\n",
       "        (function() {\n",
       "          const frame = document.getElementById(\"tensorboard-frame-15d9763178ba25c0\");\n",
       "          const url = new URL(\"/\", window.location);\n",
       "          const port = 6006;\n",
       "          if (port) {\n",
       "            url.port = port;\n",
       "          }\n",
       "          frame.src = url;\n",
       "        })();\n",
       "      </script>\n",
       "    "
      ],
      "text/plain": [
       "<IPython.core.display.HTML object>"
      ]
     },
     "metadata": {},
     "output_type": "display_data"
    }
   ],
   "source": [
    "# Iniciar o TensorBoard no Colab\n",
    "%load_ext tensorboard\n",
    "%tensorboard --logdir logs/fit"
   ]
  }
 ],
 "metadata": {
  "colab": {
   "provenance": []
  },
  "kernelspec": {
   "display_name": "venv",
   "language": "python",
   "name": "python3"
  },
  "language_info": {
   "codemirror_mode": {
    "name": "ipython",
    "version": 3
   },
   "file_extension": ".py",
   "mimetype": "text/x-python",
   "name": "python",
   "nbconvert_exporter": "python",
   "pygments_lexer": "ipython3",
   "version": "3.12.8"
  }
 },
 "nbformat": 4,
 "nbformat_minor": 0
}
